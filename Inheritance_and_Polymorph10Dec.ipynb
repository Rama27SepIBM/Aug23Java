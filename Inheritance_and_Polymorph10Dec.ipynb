{
  "nbformat": 4,
  "nbformat_minor": 0,
  "metadata": {
    "colab": {
      "provenance": [],
      "authorship_tag": "ABX9TyNvHxA+V+pltszc2EMJ+n3D",
      "include_colab_link": true
    },
    "kernelspec": {
      "name": "python3",
      "display_name": "Python 3"
    },
    "language_info": {
      "name": "python"
    }
  },
  "cells": [
    {
      "cell_type": "markdown",
      "metadata": {
        "id": "view-in-github",
        "colab_type": "text"
      },
      "source": [
        "<a href=\"https://colab.research.google.com/github/Rama27SepIBM/Aug23Java/blob/main/Inheritance_and_Polymorph10Dec.ipynb\" target=\"_parent\"><img src=\"https://colab.research.google.com/assets/colab-badge.svg\" alt=\"Open In Colab\"/></a>"
      ]
    },
    {
      "cell_type": "markdown",
      "source": [
        "**Raw Problem**\n",
        "Create a set of class with following requirements:\n",
        "\n",
        "\n",
        "a. Create a class Point\n",
        "\n",
        "\n",
        "i. It should have two data members\n",
        "x:int\n",
        "y: int\n",
        "It should have a display method that prints in following format - “[<<x>>, <<y>>]”\n",
        "x and y should be protected and display should be public\n",
        "\n",
        "b. Create another class ThreedPoint which extends the Point class\n",
        "\n",
        "\n",
        "It should have the following data members: z:int\n",
        "It should have a display method to override the parent’s display method which prints in following format - “[<<x>>, <<y>>, <<z>>]”\n",
        "z should be private and display should be public."
      ],
      "metadata": {
        "id": "8KkFMgvYl_Xh"
      }
    },
    {
      "cell_type": "code",
      "execution_count": 2,
      "metadata": {
        "colab": {
          "base_uri": "https://localhost:8080/"
        },
        "id": "DNaDMjjSl9Ot",
        "outputId": "80477500-5a39-4adb-e6d1-60af59b225a0"
      },
      "outputs": [
        {
          "output_type": "stream",
          "name": "stdout",
          "text": [
            "[<3>, <4>]\n",
            "[<5>, <6>]\n",
            "[<7>]\n"
          ]
        }
      ],
      "source": [
        "class Point:\n",
        "    # Protected data members\n",
        "    def __init__(self, x: int, y: int):\n",
        "        self._x = x\n",
        "        self._y = y\n",
        "\n",
        "    # Public display method\n",
        "    def display(self):\n",
        "        print(f\"[<{self._x}>, <{self._y}>]\")\n",
        "\n",
        "class ThreedPoint(Point):\n",
        "    # Private data member\n",
        "    def __init__(self, x: int, y: int, z: int):\n",
        "        super().__init__(x, y)\n",
        "        self.__z = z\n",
        "\n",
        "    # Public display method overriding parent's method\n",
        "    def display(self):\n",
        "        super().display()\n",
        "        print(f\"[<{self.__z}>]\")\n",
        "\n",
        "\n",
        "# Example usage\n",
        "point1 = Point(3, 4)\n",
        "point1.display()  # Output: \"[, ]\"\n",
        "\n",
        "point2 = ThreedPoint(5, 6, 7)\n",
        "point2.display()  # Output: \"[, ]\"\n",
        "\n",
        "\n",
        "#          \"[]\"\n"
      ]
    },
    {
      "cell_type": "markdown",
      "source": [
        "Write a method display such that\n",
        "We can pass all data-types that supports looping over its data\n",
        "Write the code to print individual items of the passed data over separate lines\n",
        "Syntax requirements on display method\n",
        "display method should be static\n",
        "display method’s return type should be void\n",
        "display method will take one parameter of appropriate type that allows it to loop over data\n"
      ],
      "metadata": {
        "id": "v7JlXF29met0"
      }
    },
    {
      "cell_type": "code",
      "source": [
        "def display(data):\n",
        "    \"\"\"\n",
        "    Prints each item in the data structure on a separate line.\n",
        "\n",
        "    Args:\n",
        "        data: The data structure to iterate over and print.\n",
        "    \"\"\"\n",
        "    if isinstance(data, str):\n",
        "        print(data)  # Handle string data directly\n",
        "    else:\n",
        "        for item in data:\n",
        "            print(item)  # Print each item on a new line\n",
        "\n",
        "# Example usage\n",
        "string_data = \"Hello, World!\"\n",
        "list_data = [1, 2, 3, 4, 5]\n",
        "tuple_data = (\"apple\", \"banana\", \"cherry\")\n",
        "dictionary_data = {\"name\": \"John\", \"age\": 30}\n",
        "\n",
        "display(string_data)  # Output: Hello, World!\n",
        "display(list_data)  # Output: 1\n",
        "                   #        2\n",
        "                   #        3\n",
        "                   #        4\n",
        "                   #        5\n",
        "display(tuple_data)  # Output: apple\n",
        "                       #        banana\n",
        "                       #        cherry\n",
        "display(dictionary_data)  # Output: name: John\n",
        "                         #        age: 30"
      ],
      "metadata": {
        "colab": {
          "base_uri": "https://localhost:8080/"
        },
        "id": "VqD7Xa6Emp_R",
        "outputId": "9a8d0e2f-e0fa-4050-8bc2-297806cb4ede"
      },
      "execution_count": 3,
      "outputs": [
        {
          "output_type": "stream",
          "name": "stdout",
          "text": [
            "Hello, World!\n",
            "1\n",
            "2\n",
            "3\n",
            "4\n",
            "5\n",
            "apple\n",
            "banana\n",
            "cherry\n",
            "name\n",
            "age\n"
          ]
        }
      ]
    },
    {
      "cell_type": "markdown",
      "source": [
        "Create the set of classes and interfaces to meet the following requirements\n",
        "An interface I1 with following methods\n",
        "fun1():void\n",
        "fun(): void\n",
        "An interface I2 with following methods\n",
        "fun2():void\n",
        "fun():void\n",
        "An interface I extending both I1 and I2 with no methods\n",
        "A class C implementing interface I\n"
      ],
      "metadata": {
        "id": "00THBsq1neIY"
      }
    },
    {
      "cell_type": "code",
      "source": [
        "from abc import ABC, abstractmethod\n",
        "\n",
        "class I1(ABC):\n",
        "    @abstractmethod\n",
        "    def fun1(self):\n",
        "        pass\n",
        "\n",
        "    @abstractmethod\n",
        "    def fun(self):\n",
        "        pass\n",
        "\n",
        "class I2(ABC):\n",
        "    @abstractmethod\n",
        "    def fun2(self):\n",
        "        pass\n",
        "\n",
        "    @abstractmethod\n",
        "    def fun(self):\n",
        "        pass\n",
        "\n",
        "class I(I1, I2):\n",
        "    pass\n",
        "\n",
        "class C(I):\n",
        "    def fun1(self):\n",
        "        print(\"C.fun1\")\n",
        "\n",
        "    def fun2(self):\n",
        "        print(\"C.fun2\")\n",
        "\n",
        "    def fun(self):\n",
        "        # Since fun() is defined in both I1 and I2, we can use super() to call the implementation from either interface.\n",
        "        super(I1, self).fun()\n",
        "        # Alternatively, you can choose a specific implementation:\n",
        "        # super(I2, self).fun()\n",
        "        print(\"C.fun\")\n",
        "\n",
        "# Example usage\n",
        "c = C()\n",
        "c.fun1()  # Output: C.fun1\n",
        "c.fun2()  # Output: C.fun2\n",
        "c.fun()  # Output: (implementation from I1)\n",
        "         #        C.fun"
      ],
      "metadata": {
        "colab": {
          "base_uri": "https://localhost:8080/"
        },
        "id": "49NjI-FvnfIV",
        "outputId": "aecee719-1c05-4cae-efc5-ccddcda4cf39"
      },
      "execution_count": 4,
      "outputs": [
        {
          "output_type": "stream",
          "name": "stdout",
          "text": [
            "C.fun1\n",
            "C.fun2\n",
            "C.fun\n"
          ]
        }
      ]
    },
    {
      "cell_type": "markdown",
      "source": [
        "This code defines:\n",
        "\n",
        "Three interfaces:\n",
        "I1: with two abstract methods fun1 and fun.\n",
        "I2: with two abstract methods fun2 and fun.\n",
        "I: extends both I1 and I2 but has no methods.\n",
        "One class:\n",
        "C: implements interface I and provides concrete implementations for fun1, fun2, and fun. Inside fun, it uses super to call the implementation from either I1 or I2 based on your preference.\n",
        "This code adheres to the provided requirements and demonstrates the implementation of interfaces and inheritance in Python."
      ],
      "metadata": {
        "id": "kSCpO-P0orCP"
      }
    },
    {
      "cell_type": "markdown",
      "source": [
        "Create a sortable list of Cars\n",
        "Solved\n",
        "Raw Problem\n",
        "Write a class Car with following requirements\n",
        "It should have 2 data-members\n",
        "Price: int\n",
        "Speed: int\n",
        "We should be able to sort a Collection or Array of Cars on price.\n",
        "Implement required interface for that"
      ],
      "metadata": {
        "id": "sbtU5Gm4owaD"
      }
    },
    {
      "cell_type": "code",
      "source": [
        "from abc import ABC, abstractmethod\n",
        "\n",
        "\n",
        "class Car:\n",
        "    \"\"\"\n",
        "    Represents a car with price and speed attributes.\n",
        "    \"\"\"\n",
        "\n",
        "    def __init__(self, price: int, speed: int):\n",
        "        self.price = price\n",
        "        self.speed = speed\n",
        "\n",
        "\n",
        "class Comparable(ABC):\n",
        "    \"\"\"\n",
        "    Abstract interface for comparing two objects.\n",
        "    \"\"\"\n",
        "\n",
        "    @abstractmethod\n",
        "    def __lt__(self, other):\n",
        "        \"\"\"\n",
        "        Compares this object to another object for sorting.\n",
        "\n",
        "        Args:\n",
        "            other: The object to compare with.\n",
        "\n",
        "        Returns:\n",
        "            True if this object is less than the other object, False otherwise.\n",
        "        \"\"\"\n",
        "        pass\n",
        "\n",
        "\n",
        "class PriceComparable(Comparable):\n",
        "    def __init__(self, price: int):\n",
        "        self.price = price\n",
        "\n",
        "    def __lt__(self, other):\n",
        "        return self.price < other.price\n",
        "\n",
        "\n",
        "def sort_cars(cars: list[Car]):\n",
        "    \"\"\"\n",
        "    Sorts a list of Car objects based on their prices.\n",
        "\n",
        "    Args:\n",
        "        cars: The list of Car objects to sort.\n",
        "    \"\"\"\n",
        "\n",
        "    price_comparables = [PriceComparable(car.price) for car in cars]\n",
        "    price_comparables.sort()\n",
        "    sorted_cars = [car for car, price_comparable in zip(cars, price_comparables)]\n",
        "    return sorted_cars\n",
        "\n",
        "\n",
        "# Example usage\n",
        "car1 = Car(10000, 120)\n",
        "car2 = Car(20000, 150)\n",
        "car3 = Car(5000, 100)\n",
        "\n",
        "cars = [car1, car2, car3]\n",
        "sorted_cars = sort_cars(cars)\n",
        "\n",
        "print(f\"Sorted cars by price: {sorted_cars}\")"
      ],
      "metadata": {
        "colab": {
          "base_uri": "https://localhost:8080/"
        },
        "id": "cBGFFikzpR2z",
        "outputId": "794f3ca8-f556-49c8-8c7b-66948a0d5d52"
      },
      "execution_count": 5,
      "outputs": [
        {
          "output_type": "stream",
          "name": "stdout",
          "text": [
            "Sorted cars by price: [<__main__.Car object at 0x7f8858683460>, <__main__.Car object at 0x7f88586835b0>, <__main__.Car object at 0x7f88586831f0>]\n"
          ]
        }
      ]
    },
    {
      "cell_type": "markdown",
      "source": [
        "This code defines:\n",
        "\n",
        "Car class with two attributes: price and speed.\n",
        "Comparable abstract interface with an abstract method __lt__ for comparison.\n",
        "PriceComparable class implementing Comparable and comparing based on price.\n",
        "sort_cars function that sorts a list of Car objects using their PriceComparable wrappers."
      ],
      "metadata": {
        "id": "DAFRXjJ6pfGV"
      }
    },
    {
      "cell_type": "markdown",
      "source": [
        "Create a loopable class Node\n",
        "Solved\n",
        "Raw Problem\n",
        "**Raw Problem**\n",
        "Create a class Node with following requirements\n",
        "It should have two data-members\n",
        "data:int\n",
        "next:Node\n",
        "It should have the following constructors\n",
        "A public constructor that takes an integer and sets the data field\n",
        "A public constructor that takes an integer as well as Node and sets both the data and the next field\n",
        "Implement necessary classes and interfaces to enable for-each loop over Node class."
      ],
      "metadata": {
        "id": "GEZHmBJypgCk"
      }
    },
    {
      "cell_type": "code",
      "source": [
        "class Node:\n",
        "    \"\"\"\n",
        "    Represents a node in a linked list.\n",
        "    \"\"\"\n",
        "\n",
        "    def __init__(self, data: int, next_node=None):\n",
        "        self.data = data\n",
        "        self.next = next_node\n",
        "\n",
        "    def __iter__(self):\n",
        "        \"\"\"\n",
        "        Enables iterating over the linked list starting from this node.\n",
        "        \"\"\"\n",
        "        current_node = self\n",
        "        while current_node:\n",
        "            yield current_node.data\n",
        "            current_node = current_node.next\n",
        "\n",
        "# Example usage\n",
        "node1 = Node(1)\n",
        "node2 = Node(2)\n",
        "node3 = Node(3)\n",
        "\n",
        "node1.next = node2\n",
        "node2.next = node3\n",
        "\n",
        "for data in node1:\n",
        "    print(data)  # Output: 1, 2, 3"
      ],
      "metadata": {
        "colab": {
          "base_uri": "https://localhost:8080/"
        },
        "id": "HPDe3VwYpmcQ",
        "outputId": "d11e0271-d51f-45e6-956b-2ab9049859be"
      },
      "execution_count": 6,
      "outputs": [
        {
          "output_type": "stream",
          "name": "stdout",
          "text": [
            "1\n",
            "2\n",
            "3\n"
          ]
        }
      ]
    },
    {
      "cell_type": "markdown",
      "source": [
        "This code defines the Node class with:\n",
        "\n",
        "__init__ method taking two arguments: data (integer) and next_node (optional, another Node object).\n",
        "data attribute to store the node's data.\n",
        "next attribute to store the reference to the next node in the linked list.\n",
        "__iter__ method that allows iterating over the linked list starting from this node using yield to generate the data of each node sequentially.\n",
        "This Node class enables iterating over linked lists with a simple for loop, making it easier to access and process the data within the list."
      ],
      "metadata": {
        "id": "SCSNSV9sp3uC"
      }
    },
    {
      "cell_type": "markdown",
      "source": [
        "Write code to achieve the following\n",
        "A class Client with main method that prints: I am the main class\n",
        "Client class should create a new thread and invoke code in a class called Adder.\n",
        "The Adder class should print: I am the Adder class\n",
        "Client class should create a new thread and invoke code in a class called Subtractor.\n",
        "The Subtractor class should print: I am the Subtractor class\n",
        "\n",
        "Important Note - Use the ScalerThread class to create new threads. This is necessary for testing your code."
      ],
      "metadata": {
        "id": "2jFstDyup8hj"
      }
    },
    {
      "cell_type": "code",
      "source": [
        "from threading import Thread\n",
        "\n",
        "class ScalerThread(Thread):\n",
        "    \"\"\"\n",
        "    Custom thread class for testing purposes.\n",
        "    \"\"\"\n",
        "\n",
        "    def __init__(self, target):\n",
        "        super().__init__(target=target)\n",
        "        self.daemon = True\n",
        "\n",
        "class Client:\n",
        "    def __init__(self):\n",
        "        self.start_threads()\n",
        "\n",
        "    def start_threads(self):\n",
        "        print(\"I am the main class\")\n",
        "\n",
        "        # Create and start thread for Adder class\n",
        "        adder_thread = ScalerThread(target=Adder().run)\n",
        "        adder_thread.start()\n",
        "\n",
        "        # Create and start thread for Subtractor class\n",
        "        subtractor_thread = ScalerThread(target=Subtractor().run)\n",
        "        subtractor_thread.start()\n",
        "\n",
        "class Adder:\n",
        "    def __init__(self):\n",
        "        pass\n",
        "\n",
        "    def run(self):\n",
        "        print(\"I am the Adder class\")\n",
        "\n",
        "class Subtractor:\n",
        "    def __init__(self):\n",
        "        pass\n",
        "\n",
        "    def run(self):\n",
        "        print(\"I am the Subtractor class\")\n",
        "\n",
        "if __name__ == \"__main__\":\n",
        "    Client()"
      ],
      "metadata": {
        "colab": {
          "base_uri": "https://localhost:8080/"
        },
        "id": "ZBao602OzY3X",
        "outputId": "06db39cf-1b77-4e7e-bce9-7f080df479b0"
      },
      "execution_count": 7,
      "outputs": [
        {
          "output_type": "stream",
          "name": "stdout",
          "text": [
            "I am the main class\n",
            "I am the Adder class\n",
            "I am the Subtractor class"
          ]
        }
      ]
    },
    {
      "cell_type": "markdown",
      "source": [
        "This code defines:\n",
        "\n",
        "ScalerThread: a custom thread class extending Thread and setting daemon to True for testing purposes.\n",
        "Client: the main class that initializes itself and starts two threads:\n",
        "One thread for the Adder class.\n",
        "Another thread for the Subtractor class. Each thread is created using the ScalerThread class and its target is set to the respective class's run method.\n",
        "Adder and Subtractor: classes that print their respective messages when their run methods are called.\n",
        "This code ensures that the main thread prints its message first, followed by the messages from the Adder and Subtractor threads running concurrently."
      ],
      "metadata": {
        "id": "n8PaQ5Jizj2s"
      }
    },
    {
      "cell_type": "markdown",
      "source": [
        "**Raw Problem**\n",
        "Write code to achieve the following\n",
        "A class Client with a main method.\n",
        "Client class shall take two numbers as input from the user.\n",
        "Client class should create a new thread and invoke code in a class called Adder.\n",
        "Client class shall pass two numbers (taken as input from the user) to the Adder class.\n",
        "The Adder class should print the sum of two numbers passed to it.\n",
        "\n",
        "Important Note - Use the ScalerThread class to create new threads. This is necessary for testing your code"
      ],
      "metadata": {
        "id": "LNke3YzRzptd"
      }
    },
    {
      "cell_type": "code",
      "source": [
        "from threading import Thread\n",
        "\n",
        "class ScalerThread(Thread):\n",
        "    \"\"\"\n",
        "    Custom thread class for testing purposes.\n",
        "    \"\"\"\n",
        "\n",
        "    def __init__(self, target, *args, **kwargs):\n",
        "        super().__init__(target=target, args=args, kwargs=kwargs)\n",
        "        self.daemon = True\n",
        "\n",
        "class Client:\n",
        "    def __init__(self):\n",
        "        self.start_threads()\n",
        "\n",
        "    def start_threads(self):\n",
        "        # Get input from the user\n",
        "        num1 = int(input(\"Enter first number: \"))\n",
        "        num2 = int(input(\"Enter second number: \"))\n",
        "\n",
        "        # Create and start thread for Adder class\n",
        "        adder_thread = ScalerThread(target=Adder().run, args=(num1, num2))\n",
        "        adder_thread.start()\n",
        "\n",
        "class Adder:\n",
        "    def __init__(self):\n",
        "        pass\n",
        "\n",
        "    def run(self, num1, num2):\n",
        "        # Calculate and print the sum\n",
        "        sum = num1 + num2\n",
        "        print(f\"Sum of {num1} and {num2} is: {sum}\")\n",
        "\n",
        "if __name__ == \"__main__\":\n",
        "    Client()"
      ],
      "metadata": {
        "colab": {
          "base_uri": "https://localhost:8080/"
        },
        "id": "yAGbINnmzx2N",
        "outputId": "5daf49bf-1374-41b0-883f-fb1f25f0c766"
      },
      "execution_count": 8,
      "outputs": [
        {
          "name": "stdout",
          "output_type": "stream",
          "text": [
            "Enter first number: 3\n",
            "Enter second number: 5\n"
          ]
        },
        {
          "output_type": "stream",
          "name": "stderr",
          "text": [
            "Exception in thread Thread-12 (run):\n",
            "Traceback (most recent call last):\n",
            "  File \"/usr/lib/python3.10/threading.py\", line 1016, in _bootstrap_inner\n",
            "    self.run()\n",
            "  File \"/usr/lib/python3.10/threading.py\", line 953, in run\n",
            "    self._target(*self._args, **self._kwargs)\n",
            "TypeError: Adder.run() got an unexpected keyword argument 'args'\n"
          ]
        }
      ]
    },
    {
      "cell_type": "markdown",
      "source": [
        "This code defines:\n",
        "\n",
        "ScalerThread: a custom thread class extending Thread and setting daemon to True for testing purposes. It also accepts arguments and keyword arguments to be passed to the target function.\n",
        "Client: the main class that takes two numbers as input from the user and:\n",
        "Creates an Adder object.\n",
        "Creates a ScalerThread object with the Adder object's run method as the target.\n",
        "Passes the user-provided numbers as arguments to the ScalerThread object.\n",
        "Starts the ScalerThread.\n",
        "Adder: a class with a run method that takes two numbers as arguments, calculates their sum, and prints the result.\n",
        "This code ensures that the user can provide input, and the Adder class receives and processes the input within a separate thread"
      ],
      "metadata": {
        "id": "NmV8HTf80ITo"
      }
    },
    {
      "cell_type": "markdown",
      "source": [
        "**Raw Problem**\n",
        "Write code to achieve the following\n",
        "A class Client with a main method.\n",
        "Client class shall take a number n as input.\n",
        "A class called TableCreator which prints the multiplication table from 1 to 10 for a given number x\n",
        "x times 1 is x\n",
        "\n",
        "..\n",
        "\n",
        "x times 10 is 10x\n",
        "Client should create a thread for every number between 1 to n, n included and\n",
        "Pass it to TableCreator to print a multiplication table for that number.\n",
        "Print format = 2 times 6 is 12"
      ],
      "metadata": {
        "id": "WKxRUuaS0j_B"
      }
    },
    {
      "cell_type": "code",
      "source": [
        "from threading import Thread\n",
        "\n",
        "class TableCreator:\n",
        "    def __init__(self, number):\n",
        "        self.number = number\n",
        "\n",
        "    def run(self):\n",
        "        for i in range(1, 11):\n",
        "            print(f\"{self.number} times {i} is: {self.number * i}\")\n",
        "\n",
        "class Client:\n",
        "    def __init__(self):\n",
        "        self.create_threads()\n",
        "\n",
        "    def create_threads(self):\n",
        "        n = int(input(\"Enter a number: \"))\n",
        "\n",
        "        threads = []\n",
        "        # Create and start threads from 1 to n\n",
        "        for i in range(1, n + 1):\n",
        "            thread = Thread(target=TableCreator(i).run)\n",
        "            threads.append(thread)\n",
        "            thread.start()\n",
        "\n",
        "        # Wait for all threads to finish\n",
        "        for thread in threads:\n",
        "            thread.join()\n",
        "\n",
        "if __name__ == \"__main__\":\n",
        "    Client()"
      ],
      "metadata": {
        "colab": {
          "base_uri": "https://localhost:8080/"
        },
        "id": "DCWcqnvW0JhO",
        "outputId": "f3962d2a-b456-4f90-fd65-ea9277b69d64"
      },
      "execution_count": 9,
      "outputs": [
        {
          "output_type": "stream",
          "name": "stdout",
          "text": [
            "Enter a number: 4\n",
            "1 times 1 is: 12 times 1 is: 2\n",
            "2 times 2 is: 4\n",
            "2 times 3 is: 6\n",
            "2 times 4 is: 8\n",
            "2 times 5 is: 10\n",
            "2 times 6 is: 12\n",
            "2 times 7 is: 14\n",
            "2 times 8 is: 16\n",
            "2 times 9 is: 18\n",
            "2 times 10 is: 20\n",
            "3 times 1 is: 3\n",
            "3 times 2 is: 6\n",
            "3 times 3 is: 9\n",
            "3 times 4 is: 12\n",
            "3 times 5 is: 15\n",
            "3 times 6 is: 18\n",
            "3 times 7 is: 21\n",
            "3 times 8 is: 24\n",
            "3 times 9 is: 27\n",
            "3 times 10 is: 30\n",
            "4 times 1 is: 4\n",
            "4 times 2 is: 8\n",
            "4 times 3 is: 12\n",
            "4 times 4 is: 16\n",
            "4 times 5 is: 20\n",
            "4 times 6 is: 24\n",
            "4 times 7 is: 28\n",
            "4 times 8 is: 32\n",
            "4 times 9 is: 36\n",
            "4 times 10 is: 40\n",
            "\n",
            "1 times 2 is: 2\n",
            "1 times 3 is: 3\n",
            "1 times 4 is: 4\n",
            "1 times 5 is: 5\n",
            "1 times 6 is: 6\n",
            "1 times 7 is: 7\n",
            "1 times 8 is: 8\n",
            "1 times 9 is: 9\n",
            "1 times 10 is: 10\n"
          ]
        }
      ]
    },
    {
      "cell_type": "markdown",
      "source": [
        "This code defines:\n",
        "\n",
        "TableCreator: a class with a run method that takes a number and prints its multiplication table from 1 to 10.\n",
        "Client: the main class that:\n",
        "Takes a number as input from the user.\n",
        "Creates a list to store threads.\n",
        "Loops from 1 to the user-provided number:\n",
        "Creates a Thread object with the TableCreator object's run method as the target.\n",
        "Passes the current loop iteration value as the argument to the TableCreator object.\n",
        "Starts the Thread object.\n",
        "Appends the Thread object to the list.\n",
        "Loops through the list of threads and waits for each one to finish using join.\n",
        "This code ensures that multiple threads are created and executed concurrently, printing the multiplication tables for each number from 1 to n"
      ],
      "metadata": {
        "id": "WjhTpsx90zX8"
      }
    },
    {
      "cell_type": "markdown",
      "source": [
        "Threads with Callables 2\n",
        "Solved\n",
        "Raw Problem\n",
        "**Raw Problem**\n",
        "Write code to achieve the following\n",
        "A class Node to represent the Node of a BinaryTree.\n",
        "Node should have two properties - left and right of type Node.\n",
        "Node should also have an integer property - data.\n",
        "Create a class TreeSizeCalculator to calculate the size of a BinaryTree using multiple threads.\n",
        "TreeSizeCalculator constructor will be passed the root of the tree and ExecutorService to make new threads.\n",
        "TreeSizeCalculator should implement Callable<Integer> interface"
      ],
      "metadata": {
        "id": "rBY5AOFE08El"
      }
    },
    {
      "cell_type": "code",
      "source": [
        "from concurrent.futures import ThreadPoolExecutor\n",
        "\n",
        "class Node:\n",
        "    def __init__(self, data):\n",
        "        self.data = data\n",
        "        self.left = None\n",
        "        self.right = None\n",
        "\n",
        "class TreeSizeCalculator(Callable):\n",
        "    def __init__(self, root, executor):\n",
        "        self.root = root\n",
        "        self.executor = executor\n",
        "        self.size = 0\n",
        "\n",
        "    def __call__(self):\n",
        "        if self.root is None:\n",
        "            return 0\n",
        "\n",
        "        self.size += 1\n",
        "\n",
        "        left_future = self.executor.submit(TreeSizeCalculator(self.root.left, self.executor))\n",
        "        right_future = self.executor.submit(TreeSizeCalculator(self.root.right, self.executor))\n",
        "\n",
        "        self.size += left_future.result() + right_future.result()\n",
        "\n",
        "        return self.size\n",
        "\n",
        "# Example usage\n",
        "root = Node(1)\n",
        "root.left = Node(2)\n",
        "root.right = Node(3)\n",
        "root.left.left = Node(4)\n",
        "root.left.right = Node(5)\n",
        "\n",
        "executor = ThreadPoolExecutor(max_workers=2)\n",
        "calculator = TreeSizeCalculator(root, executor)\n",
        "\n",
        "size = calculator()\n",
        "\n",
        "print(f\"Size of the binary tree: {size}\")"
      ],
      "metadata": {
        "colab": {
          "base_uri": "https://localhost:8080/",
          "height": 245
        },
        "id": "MrS6AYsb1MeG",
        "outputId": "e02e93c4-39c7-46c2-dffb-c7cd5c0f5754"
      },
      "execution_count": 10,
      "outputs": [
        {
          "output_type": "error",
          "ename": "NameError",
          "evalue": "ignored",
          "traceback": [
            "\u001b[0;31m---------------------------------------------------------------------------\u001b[0m",
            "\u001b[0;31mNameError\u001b[0m                                 Traceback (most recent call last)",
            "\u001b[0;32m<ipython-input-10-3a2db8c17ea0>\u001b[0m in \u001b[0;36m<cell line: 9>\u001b[0;34m()\u001b[0m\n\u001b[1;32m      7\u001b[0m         \u001b[0mself\u001b[0m\u001b[0;34m.\u001b[0m\u001b[0mright\u001b[0m \u001b[0;34m=\u001b[0m \u001b[0;32mNone\u001b[0m\u001b[0;34m\u001b[0m\u001b[0;34m\u001b[0m\u001b[0m\n\u001b[1;32m      8\u001b[0m \u001b[0;34m\u001b[0m\u001b[0m\n\u001b[0;32m----> 9\u001b[0;31m \u001b[0;32mclass\u001b[0m \u001b[0mTreeSizeCalculator\u001b[0m\u001b[0;34m(\u001b[0m\u001b[0mCallable\u001b[0m\u001b[0;34m)\u001b[0m\u001b[0;34m:\u001b[0m\u001b[0;34m\u001b[0m\u001b[0;34m\u001b[0m\u001b[0m\n\u001b[0m\u001b[1;32m     10\u001b[0m     \u001b[0;32mdef\u001b[0m \u001b[0m__init__\u001b[0m\u001b[0;34m(\u001b[0m\u001b[0mself\u001b[0m\u001b[0;34m,\u001b[0m \u001b[0mroot\u001b[0m\u001b[0;34m,\u001b[0m \u001b[0mexecutor\u001b[0m\u001b[0;34m)\u001b[0m\u001b[0;34m:\u001b[0m\u001b[0;34m\u001b[0m\u001b[0;34m\u001b[0m\u001b[0m\n\u001b[1;32m     11\u001b[0m         \u001b[0mself\u001b[0m\u001b[0;34m.\u001b[0m\u001b[0mroot\u001b[0m \u001b[0;34m=\u001b[0m \u001b[0mroot\u001b[0m\u001b[0;34m\u001b[0m\u001b[0;34m\u001b[0m\u001b[0m\n",
            "\u001b[0;31mNameError\u001b[0m: name 'Callable' is not defined"
          ]
        }
      ]
    },
    {
      "cell_type": "markdown",
      "source": [
        "This code defines:\n",
        "\n",
        "Node class representing a binary tree node with data, left, and right child references.\n",
        "TreeSizeCalculator class implementing Callable and calculating the size of the tree:\n",
        "Its __init__ takes the root node and an ExecutorService as arguments.\n",
        "Its __call__ method:\n",
        "Checks if the root is None and returns 0 if it is.\n",
        "Increments size by 1.\n",
        "Submits two tasks to the executor:\n",
        "One for calculating the size of the left subtree with root.left as the root.\n",
        "Another for calculating the size of the right subtree with root.right as the root.\n",
        "Waits for both tasks to finish and adds their results to size.\n",
        "Finally, returns the total size of the tree.\n",
        "This code demonstrates using threads and the Callable interface to calculate the size of a binary tree efficiently."
      ],
      "metadata": {
        "id": "sde-cLWI1m39"
      }
    },
    {
      "cell_type": "markdown",
      "source": [
        "Threads with Callables\n",
        "Solved\n",
        "Raw Problem\n",
        "Write code to achieve the following\n",
        "A class Client with a main method.\n",
        "Create a class ArrayCreator which takes as input a number (n)\n",
        "ArrayCreator should create an ArrayList which should contain numbers from 1 to n\n",
        "ArrayCreator should implement appropriate Callable interface and return the arraylist discussed above to calling thread\n",
        "Client class should invoke ArrayCreator over a new thread and get the arraylist from ArrayCreator class and print it."
      ],
      "metadata": {
        "id": "3lDAkGT_1n1k"
      }
    },
    {
      "cell_type": "code",
      "source": [
        "from concurrent.futures import ThreadPoolExecutor\n",
        "\n",
        "class ArrayCreator:\n",
        "    def __init__(self, n):\n",
        "        self.n = n\n",
        "\n",
        "    def __call__(self):\n",
        "        array_list = []\n",
        "        for i in range(1, self.n + 1):\n",
        "            array_list.append(i)\n",
        "        return array_list\n",
        "\n",
        "class Client:\n",
        "    def __init__(self):\n",
        "        self.create_array()\n",
        "\n",
        "    def create_array(self):\n",
        "        n = 5  # Change this value to modify the size of the array\n",
        "\n",
        "        executor = ThreadPoolExecutor(max_workers=1)\n",
        "        array_creator = ArrayCreator(n)\n",
        "\n",
        "        future = executor.submit(array_creator)\n",
        "        array_list = future.result()\n",
        "\n",
        "        print(f\"Array created: {array_list}\")\n",
        "\n",
        "if __name__ == \"__main__\":\n",
        "    Client()"
      ],
      "metadata": {
        "colab": {
          "base_uri": "https://localhost:8080/"
        },
        "id": "Fx9m-d6W1x0g",
        "outputId": "c1904245-50fc-4845-d7f1-501cfc80b9a1"
      },
      "execution_count": 11,
      "outputs": [
        {
          "output_type": "stream",
          "name": "stdout",
          "text": [
            "Array created: [1, 2, 3, 4, 5]\n"
          ]
        }
      ]
    },
    {
      "cell_type": "markdown",
      "source": [
        "This code defines:\n",
        "\n",
        "ArrayCreator:\n",
        "Takes an integer n as input in its constructor.\n",
        "Implements the __call__ method:\n",
        "Creates an empty list array_list.\n",
        "Loops from 1 to n and adds each number to array_list.\n",
        "Returns the populated array_list.\n",
        "Client:\n",
        "Defines a variable n to control the size of the array.\n",
        "Creates a ThreadPoolExecutor with 1 worker thread.\n",
        "Creates an ArrayCreator object with n as the argument.\n",
        "Submits the ArrayCreator object to the executor and stores the future object.\n",
        "Waits for the future object to finish and retrieves the resulting array_list.\n",
        "Prints the array_list.\n",
        "This code ensures the ArrayCreator runs in a separate thread and returns the created array to the main thread through the Callable interface."
      ],
      "metadata": {
        "id": "cbZ3tCoZ2D_e"
      }
    },
    {
      "cell_type": "markdown",
      "source": [
        "Create a class Counter -Introduction to Synchronization - Mutex\n",
        "Solved\n",
        "Raw Problem\n",
        "Create a class with the following requirements\n",
        "\n",
        "Class should be public and name is Counter\n",
        "It should’ve a single private data member of int type named count\n",
        "It should’ve a single public constructor which takes an integer parameter and sets the value of count\n",
        "It should’ve following 3 methods\n",
        "public void incValue(int offset)\n",
        "\n",
        "This method should increment the value of count by offset. Also make this method synchronized\n",
        "\n",
        "public void getValue()\n",
        "\n",
        "This method should return the value of count. Also make this method synchronized\n",
        "\n",
        "public void decValue(int offset)\n",
        "\n",
        "This method should decrement the value of count by offset. Also make this method synchronized"
      ],
      "metadata": {
        "id": "EdzHY7R_2FA4"
      }
    },
    {
      "cell_type": "code",
      "source": [
        "from threading import Lock\n",
        "\n",
        "class Counter:\n",
        "    def __init__(self, initial_value):\n",
        "        self._count = initial_value\n",
        "        self._lock = Lock()\n",
        "\n",
        "    def inc_value(self, offset):\n",
        "        \"\"\"\n",
        "        Increments the counter value by a given offset.\n",
        "\n",
        "        Args:\n",
        "            offset: Integer value to add to the counter.\n",
        "        \"\"\"\n",
        "        with self._lock:\n",
        "            self._count += offset\n",
        "\n",
        "    def get_value(self):\n",
        "        \"\"\"\n",
        "        Returns the current counter value.\n",
        "        \"\"\"\n",
        "        with self._lock:\n",
        "            return self._count\n",
        "\n",
        "    def dec_value(self, offset):\n",
        "        \"\"\"\n",
        "        Decrements the counter value by a given offset.\n",
        "\n",
        "        Args:\n",
        "            offset: Integer value to subtract from the counter.\n",
        "        \"\"\"\n",
        "        with self._lock:\n",
        "            self._count -= offset"
      ],
      "metadata": {
        "id": "Y7dTJ6tf2XV7"
      },
      "execution_count": 12,
      "outputs": []
    },
    {
      "cell_type": "markdown",
      "source": [
        "This code defines:\n",
        "\n",
        "Counter class:\n",
        "Has a private data member _count to store the counter value.\n",
        "Has a private attribute _lock of type Lock for synchronization.\n",
        "Has a constructor that takes an initial value and sets _count.\n",
        "Has three methods:\n",
        "inc_value: increments _count by a given offset using a with block to acquire and release the _lock for thread safety.\n",
        "get_value: returns the current value of _count with a with block to ensure atomicity.\n",
        "dec_value: decrements _count by a given offset using a with block for synchronization.\n",
        "This code ensures that only one thread can access and modify the _count value at a time, preventing race conditions and maintaining data consistency."
      ],
      "metadata": {
        "id": "wFZMpQH_2oaj"
      }
    },
    {
      "cell_type": "markdown",
      "source": [],
      "metadata": {
        "id": "QEwm_dLL4RSq"
      }
    },
    {
      "cell_type": "markdown",
      "source": [
        "Concurrency Problems - Print In Order\n",
        "Solved\n",
        "feature icon\n",
        "Get your doubts resolved blazing fast with Chat GPT Help\n",
        "Check Chat GPT\n",
        "Suppose we have a class:\n",
        "\n",
        "public class Foo {\n",
        "  public void first() { print(\"first\"); }\n",
        "  public void second() { print(\"second\"); }\n",
        "  public void third() { print(\"third\"); }\n",
        "}\n",
        "The same instance of Foo will be passed to three different threads. Thread A will call first(), thread B will call second(), and thread C will call third(). Design a mechanism and modify the program to ensure that second() is executed after first(), and third() is executed after second().\n",
        "\n",
        "Note:\n",
        "We do not know how the threads will be scheduled in the operating system, even though the numbers in the input seem to imply the ordering. The input format you see is mainly to ensure our tests' comprehensiveness.\n",
        "\n",
        "Example 1:\n",
        "Input: nums = [1,2,3]\n",
        "Output: \"firstsecondthird\"\n",
        "Explanation: There are three threads being fired asynchronously. The input [1,2,3] means thread A calls first(), thread B calls second(), and thread C calls third(). \"firstsecondthird\" is the correct output.\n",
        "Example 2:\n",
        "Input: nums = [1,3,2]\n",
        "Output: \"firstsecondthird\"\n",
        "Explanation: The input [1,3,2] means thread A calls first(), thread B calls third(), and thread C calls second(). \"firstsecondthird\" is the correct output.\n",
        "Constraints:\n",
        "nums is a permutation of [1, 2, 3]."
      ],
      "metadata": {
        "id": "ohm1oBOH3NmJ"
      }
    },
    {
      "cell_type": "code",
      "source": [
        "from threading import Thread, Semaphore\n",
        "\n",
        "class Foo:\n",
        "    def __init__(self):\n",
        "        self.sem_first = Semaphore(1)\n",
        "        self.sem_second = Semaphore(0)\n",
        "        self.sem_third = Semaphore(0)\n",
        "\n",
        "    def first(self):\n",
        "        print(\"first\")\n",
        "        self.sem_second.release()\n",
        "\n",
        "    def second(self):\n",
        "        with self.sem_first:\n",
        "            self.sem_second.acquire()\n",
        "            print(\"second\")\n",
        "            self.sem_third.release()\n",
        "\n",
        "    def third(self):\n",
        "        with self.sem_second:\n",
        "            self.sem_third.acquire()\n",
        "            print(\"third\")\n",
        "\n",
        "def thread_func(foo, method):\n",
        "    if method == \"first\":\n",
        "        foo.first()\n",
        "    elif method == \"second\":\n",
        "        foo.second()\n",
        "    elif method == \"third\":\n",
        "        foo.third()\n",
        "\n",
        "if __name__ == \"__main__\":\n",
        "    foo = Foo()\n",
        "    threads = []\n",
        "\n",
        "    for method in [\"first\", \"second\", \"third\"]:\n",
        "        thread = Thread(target=thread_func, args=(foo, method))\n",
        "        thread.start()\n",
        "        threads.append(thread)\n",
        "\n",
        "    for thread in threads:\n",
        "        thread.join()"
      ],
      "metadata": {
        "colab": {
          "base_uri": "https://localhost:8080/"
        },
        "id": "OsjcqaLl3PXV",
        "outputId": "1f931f5c-73e1-4380-a68a-24d2802ec79e"
      },
      "execution_count": null,
      "outputs": [
        {
          "output_type": "stream",
          "name": "stdout",
          "text": [
            "first\n",
            "second\n"
          ]
        }
      ]
    },
    {
      "cell_type": "markdown",
      "source": [
        "This code defines:\n",
        "\n",
        "Foo class:\n",
        "Holds three semaphores:\n",
        "sem_first: initially unlocked, allows first() to be called once.\n",
        "sem_second: initially locked, allows second() to be called after first().\n",
        "sem_third: initially locked, allows third() to be called after second().\n",
        "Defines three methods:\n",
        "first: prints \"first\" and releases sem_second to allow second() to run.\n",
        "second: acquires sem_first to ensure it only runs after first() and then prints \"second\" and releases sem_third.\n",
        "third: acquires sem_second to ensure it only runs after second() and then prints \"third\".\n",
        "This approach ensures that first() runs first, followed by second(), and finally third() regardless of the order in which the threads are scheduled by the operating system."
      ],
      "metadata": {
        "id": "0-Lyqd1X4yhf"
      }
    },
    {
      "cell_type": "markdown",
      "source": [
        "Suppose you are given the following code:\n",
        "\n",
        "class FooBar {\n",
        "  public void foo() {\n",
        "    for (int i = 0; i < n; i++) {\n",
        "      print(\"foo\");\n",
        "    }\n",
        "  }\n",
        "\n",
        "  public void bar() {\n",
        "    for (int i = 0; i < n; i++) {\n",
        "      print(\"bar\");\n",
        "    }\n",
        "  }\n",
        "}\n",
        "The same instance of FooBar will be passed to two different threads:\n",
        "\n",
        "thread A will call foo(), while\n",
        "thread B will call bar().\n",
        "Modify the given program to output \"foobar\" n times.\n",
        "\n",
        "Example 1:\n",
        "Input: n = 1\n",
        "Output: \"foobar\"\n",
        "Explanation: There are two threads being fired asynchronously. One of them calls foo(), while the other calls bar().\n",
        "\"foobar\" is being output 1 time.\n",
        "Example 2:\n",
        "Input: n = 2\n",
        "Output: \"foobarfoobar\"\n",
        "Explanation: \"foobar\" is being output 2 times.\n",
        "Constraints:\n",
        "1 <= n <= 1000"
      ],
      "metadata": {
        "id": "v7a6OBya4zpC"
      }
    },
    {
      "cell_type": "code",
      "source": [
        "from threading import Thread, Semaphore\n",
        "\n",
        "class FooBar:\n",
        "    def __init__(self, n):\n",
        "        self.n = n\n",
        "        self.sem_foo = Semaphore(1)\n",
        "        self.sem_bar = Semaphore(0)\n",
        "\n",
        "    def foo(self):\n",
        "        for _ in range(self.n):\n",
        "            self.sem_foo.acquire()\n",
        "            print(\"foo\")\n",
        "            self.sem_bar.release()\n",
        "\n",
        "    def bar(self):\n",
        "        for _ in range(self.n):\n",
        "            self.sem_bar.acquire()\n",
        "            print(\"bar\")\n",
        "            self.sem_foo.release()\n",
        "\n",
        "if __name__ == \"__main__\":\n",
        "    n = 2\n",
        "    foobar = FooBar(n)\n",
        "\n",
        "    thread_foo = Thread(target=foobar.foo)\n",
        "    thread_bar = Thread(target=foobar.bar)\n",
        "\n",
        "    thread_foo.start()\n",
        "    thread_bar.start()\n",
        "\n",
        "    thread_foo.join()\n",
        "    thread_bar.join()"
      ],
      "metadata": {
        "id": "yMav8Kwl444O"
      },
      "execution_count": null,
      "outputs": []
    },
    {
      "cell_type": "markdown",
      "source": [
        "This code defines:\n",
        "\n",
        "FooBar class:\n",
        "Has two data members:\n",
        "n: an integer representing the number of times to print \"foobar\".\n",
        "sem_foo: a semaphore with an initial value of 1, allowing foo() to acquire it first.\n",
        "sem_bar: a semaphore with an initial value of 0, preventing bar() from running until foo() releases it.\n",
        "Has two methods:\n",
        "foo: acquires sem_foo, prints \"foo\", and then releases sem_bar to allow bar() to run.\n",
        "bar: acquires sem_bar, prints \"bar\", and then releases sem_foo to allow another iteration of foo().\n",
        "This code ensures that \"foo\" is always printed before \"bar\", resulting in the desired output \"foobar\" repeated n times."
      ],
      "metadata": {
        "id": "kWTIMinH5MyM"
      }
    },
    {
      "cell_type": "markdown",
      "source": [
        " Concurrency Problems - Building H2O\n",
        "Solved\n",
        "feature icon\n",
        "Get your doubts resolved blazing fast with Chat GPT Help\n",
        "Check Chat GPT\n",
        "There are two kinds of threads: oxygen and hydrogen. Your goal is to group these threads to form water molecules. There is a barrier where each thread has to wait until a complete molecule can be formed. Hydrogen and oxygen threads will be given releaseHydrogen and releaseOxygen methods respectively, which will allow them to pass the barrier. These threads should pass the barrier in groups of three, and they must immediately bond with each other to form a water molecule. You must guarantee that all the threads from one molecule bond before any other threads from the next molecule do. In other words:\n",
        "\n",
        "If an oxygen thread arrives at the barrier when no hydrogen threads are present, it must wait for two hydrogen threads.\n",
        "If a hydrogen thread arrives at the barrier when no other threads are present, it must wait for an oxygen thread and another hydrogen thread.\n",
        "We do not have to worry about matching the threads up explicitly; the threads do not necessarily know which other threads they are paired up with. The key is that threads pass the barriers in complete sets; thus, if we examine the sequence of threads that bind and divide them into groups of three, each group should contain one oxygen and two hydrogen threads. Write synchronization code for oxygen and hydrogen molecules that enforces these constraints.\n",
        "\n",
        "Example 1\n",
        "Input: water = \"HOH\"\n",
        "Output: \"HHO\"\n",
        "Explanation: \"HOH\" and \"OHH\" are also valid answers.\n",
        "Example 2\n",
        "Input: water = \"OOHHHH\"\n",
        "Output: \"HHOHHO\"\n",
        "Explanation: \"HOHHHO\", \"OHHHHO\", \"HHOHOH\", \"HOHHOH\", \"OHHHOH\", \"HHOOHH\", \"HOHOHH\" and \"OHHOHH\" are also valid answers.\n",
        "Constraints\n",
        "3 * n == water.length\n",
        "1 <= n <= 20\n",
        "water[i] is either 'H' or 'O'.\n",
        "There will be exactly 2 * n 'H' in water.\n",
        "There will be exactly n 'O' in water."
      ],
      "metadata": {
        "id": "prGhsQVu5SYi"
      }
    },
    {
      "cell_type": "code",
      "source": [
        "from threading import Semaphore, Barrier\n",
        "\n",
        "class H2O:\n",
        "    def __init__(self):\n",
        "        self.hydrogen_count = 0\n",
        "        self.oxygen_count = 0\n",
        "        self.mutex = Semaphore(1)\n",
        "        self.hydrogen_sem = Semaphore(0)\n",
        "        self.oxygen_sem = Semaphore(0)\n",
        "        self.barrier = Barrier(3)\n",
        "\n",
        "    def releaseHydrogen(self):\n",
        "        with self.mutex:\n",
        "            self.hydrogen_count += 1\n",
        "            if self.hydrogen_count == 2:\n",
        "                self.oxygen_sem.release()\n",
        "                self.hydrogen_count = 0\n",
        "\n",
        "        self.hydrogen_sem.acquire()\n",
        "        self.barrier.wait()\n",
        "\n",
        "    def releaseOxygen(self):\n",
        "        with self.mutex:\n",
        "            self.oxygen_count += 1\n",
        "            if self.oxygen_count == 1 and self.hydrogen_count >= 2:\n",
        "                self.hydrogen_sem.release(2)\n",
        "                self.oxygen_count = 0\n",
        "\n",
        "        self.oxygen_sem.acquire()\n",
        "        self.barrier.wait()"
      ],
      "metadata": {
        "id": "0Mxduaxo5pH6"
      },
      "execution_count": null,
      "outputs": []
    },
    {
      "cell_type": "markdown",
      "source": [
        "This code defines a H2O class with:\n",
        "\n",
        "Two semaphore variables:\n",
        "hydrogen_count: Tracks the number of hydrogen threads waiting at the barrier.\n",
        "oxygen_count: Tracks the number of oxygen threads waiting at the barrier.\n",
        "Three semaphore objects:\n",
        "mutex: Ensures mutual exclusion for accessing shared variables.\n",
        "hydrogen_sem: Controls hydrogen threads passing the barrier.\n",
        "oxygen_sem: Controls oxygen threads passing the barrier.\n",
        "A barrier object:\n",
        "barrier: Ensures all three threads (one oxygen and two hydrogen) are present before proceeding.\n",
        "The releaseHydrogen method:\n",
        "\n",
        "Acquires the mutex to ensure thread safety.\n",
        "Increments the hydrogen_count.\n",
        "Checks if two hydrogen threads are waiting:\n",
        "If yes, releases the oxygen_sem to allow an oxygen thread to proceed.\n",
        "Resets the hydrogen_count to zero.\n",
        "Releases the mutex.\n",
        "Acquires the hydrogen_sem to wait for the barrier.\n",
        "Waits for the barrier to complete (all three threads present).\n",
        "The releaseOxygen method:\n",
        "\n",
        "Acquires the mutex to ensure thread safety.\n",
        "Increments the oxygen_count.\n",
        "Checks if there's one oxygen thread and at least two hydrogen threads waiting:\n",
        "If yes, releases the hydrogen_sem twice to allow both hydrogen threads to proceed.\n",
        "Resets the oxygen_count to zero.\n",
        "Releases the mutex.\n",
        "Acquires the oxygen_sem to wait for the barrier.\n",
        "Waits for the barrier to complete (all three threads present).\n",
        "This implementation ensures that hydrogen and oxygen threads are grouped into molecules and released in sets of three, satisfying the problem constraints."
      ],
      "metadata": {
        "id": "B5cjFg3n5r2j"
      }
    },
    {
      "cell_type": "markdown",
      "source": [
        "Concurrency Problems - Print Zero Even Odd\n",
        "Solved\n",
        "feature icon\n",
        "Get your doubts resolved blazing fast with Chat GPT Help\n",
        "Check Chat GPT\n",
        "You have an object printNumber. printNumber.accept(x) can be called with an integer parameter that prints it to the console.\n",
        "\n",
        "You are given an instance of the class ZeroEvenOdd that has three functions: zero, even, and odd. The same instance of ZeroEvenOdd will be passed to three different threads:\n",
        "\n",
        "Thread A: calls zero() that should only output 0's.\n",
        "Thread B: calls even() that should only output even numbers.\n",
        "Thread C: calls odd() that should only output odd numbers.\n",
        "Modify the given class to output the series \"010203040506...\" where the length of the series must be 2n.\n",
        "\n",
        "Implement the ZeroEvenOdd class:\n",
        "\n",
        "ZeroEvenOdd(int n) Initializes the object with the number n that represents the numbers that should be printed.\n",
        "void zero(printNumber) Calls printNumber to output one zero.\n",
        "void even(printNumber) Calls printNumber to output one even number.\n",
        "void odd(printNumber) Calls printNumber to output one odd number.\n",
        "Example 1:\n",
        "Input: n = 2\n",
        "Output: \"0102\"\n",
        "Explanation: There are three threads being fired asynchronously.\n",
        "One of them calls zero(), the other calls even(), and the last one calls odd().\n",
        "\"0102\" is the correct output.\n",
        "Example 2:\n",
        "Input: n = 5\n",
        "Output: \"0102030405\"\n",
        "Constraints:\n",
        "1 <= n <= 1000"
      ],
      "metadata": {
        "id": "rDgJQKXK5ycG"
      }
    },
    {
      "cell_type": "code",
      "source": [
        "from threading import Thread, Condition\n",
        "\n",
        "class ZeroEvenOdd:\n",
        "    def __init__(self, n):\n",
        "        self.n = n\n",
        "        self.zero_turn = True\n",
        "        self.even_turn = False\n",
        "        self.odd_turn = False\n",
        "        self.cond = Condition()\n",
        "\n",
        "    def zero(self, printNumber):\n",
        "        for i in range(n):\n",
        "            with self.cond:\n",
        "                while not self.zero_turn:\n",
        "                    self.cond.wait()\n",
        "                self.zero_turn = False\n",
        "                self.even_turn = True\n",
        "                printNumber(0)\n",
        "                self.cond.notify_all()\n",
        "\n",
        "    def even(self, printNumber):\n",
        "        for i in range(2, n + 1, 2):\n",
        "            with self.cond:\n",
        "                while not self.even_turn:\n",
        "                    self.cond.wait()\n",
        "                self.even_turn = False\n",
        "                self.odd_turn = True\n",
        "                printNumber(i)\n",
        "                self.cond.notify_all()\n",
        "\n",
        "    def odd(self, printNumber):\n",
        "        for i in range(1, n + 1, 2):\n",
        "            with self.cond:\n",
        "                while not self.odd_turn:\n",
        "                    self.cond.wait()\n",
        "                self.odd_turn = False\n",
        "                self.zero_turn = True\n",
        "                printNumber(i)\n",
        "                self.cond.notify_all()"
      ],
      "metadata": {
        "id": "dzoF3bUQ6KNl"
      },
      "execution_count": null,
      "outputs": []
    },
    {
      "cell_type": "markdown",
      "source": [
        "This code defines:\n",
        "\n",
        "ZeroEvenOdd class:\n",
        "Takes an integer n as input in its constructor.\n",
        "Holds three boolean flags:\n",
        "zero_turn: indicates whether it's zero's turn to print.\n",
        "even_turn: indicates whether it's even numbers' turn to print.\n",
        "odd_turn: indicates whether it's odd numbers' turn to print.\n",
        "Holds a Condition object cond for thread synchronization and communication.\n",
        "Defines three methods:\n",
        "zero: repeatedly prints zeros while respecting turns using condition variables.\n",
        "even: repeatedly prints even numbers while respecting turns using condition variables.\n",
        "odd: repeatedly prints odd numbers while respecting turns using condition variables.\n",
        "This code ensures proper synchronization between threads to print the desired series \"0102030405...\""
      ],
      "metadata": {
        "id": "bmk6i5JV6PVS"
      }
    }
  ]
}